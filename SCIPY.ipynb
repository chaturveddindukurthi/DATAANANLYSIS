{
  "nbformat": 4,
  "nbformat_minor": 0,
  "metadata": {
    "colab": {
      "provenance": []
    },
    "kernelspec": {
      "name": "python3",
      "display_name": "Python 3"
    },
    "language_info": {
      "name": "python"
    }
  },
  "cells": [
    {
      "cell_type": "code",
      "execution_count": null,
      "metadata": {
        "colab": {
          "base_uri": "https://localhost:8080/"
        },
        "id": "tO-zBiJOPjEb",
        "outputId": "e3b1627a-b048-4153-bbb4-2b454a55b1cb"
      },
      "outputs": [
        {
          "output_type": "stream",
          "name": "stdout",
          "text": [
            "Requirement already satisfied: scipy in /usr/local/lib/python3.10/dist-packages (1.11.4)\n",
            "Requirement already satisfied: numpy<1.28.0,>=1.21.6 in /usr/local/lib/python3.10/dist-packages (from scipy) (1.25.2)\n"
          ]
        }
      ],
      "source": [
        "pip install scipy"
      ]
    },
    {
      "cell_type": "code",
      "source": [
        "import scipy\n",
        "from scipy import integrate\n",
        "result,error=integrate.quad(lambda x:x**2,0,1)\n",
        "print(\"Result\",result)\n",
        "print(\"Error\",error)"
      ],
      "metadata": {
        "colab": {
          "base_uri": "https://localhost:8080/"
        },
        "id": "Cv7Gq4u3QSmC",
        "outputId": "50b1ef50-812e-4c58-b1d8-aa8ce21fb4cf"
      },
      "execution_count": 12,
      "outputs": [
        {
          "output_type": "stream",
          "name": "stdout",
          "text": [
            "Result 0.33333333333333337\n",
            "Error 3.700743415417189e-15\n"
          ]
        }
      ]
    },
    {
      "cell_type": "code",
      "source": [
        "import scipy\n",
        "from scipy import integrate\n",
        "result,error=integrate.quad(lambda x:x**2,0,1)\n",
        "print(\"Result:\",result)\n",
        "print(\"Error:\",error)"
      ],
      "metadata": {
        "id": "4S1CpHnfR5Pi",
        "colab": {
          "base_uri": "https://localhost:8080/"
        },
        "outputId": "29b6839f-2b86-4272-8037-402e9af6514c"
      },
      "execution_count": 13,
      "outputs": [
        {
          "output_type": "stream",
          "name": "stdout",
          "text": [
            "Result: 0.33333333333333337\n",
            "Error: 3.700743415417189e-15\n"
          ]
        }
      ]
    },
    {
      "cell_type": "code",
      "source": [
        "import numpy as np\n",
        "from scipy import stats\n",
        "# Sample data (random numbers)\n",
        "np.random.seed(42)  # for reproducibility\n",
        "sample_data = np.random.normal(loc=10, scale=2, size=30)  # sample of 30 observations from a normal distribution with mean 10 and standard deviation 2\n",
        "# Population parameters\n",
        "population_mean = 10  # hypothesized population mean\n",
        "# Perform one-sample t-test\n",
        "t_statistic, p_value = stats.ttest_1samp(sample_data, population_mean)\n",
        "# Interpret the results\n",
        "alpha = 0.05  # significance level\n",
        "print(\"t-statistic:\", t_statistic)\n",
        "print(\"p-value:\", p_value)\n",
        "if p_value < alpha:\n",
        "    print(\"Reject the null hypothesis. There is enough evidence to suggest that the sample mean differs significantly from the population mean.\")\n",
        "else:\n",
        "    print(\"Fail to reject the null hypothesis. There is not enough evidence to suggest that the sample mean differs significantly from the population mean.\")"
      ],
      "metadata": {
        "colab": {
          "base_uri": "https://localhost:8080/"
        },
        "id": "loNmvwZ0WRA9",
        "outputId": "60577cb9-1775-4c8d-f9fd-0326b19532c1"
      },
      "execution_count": 14,
      "outputs": [
        {
          "output_type": "stream",
          "name": "stdout",
          "text": [
            "t-statistic: -1.1450173670383255\n",
            "p-value: 0.2615641461880169\n",
            "Fail to reject the null hypothesis. There is not enough evidence to suggest that the sample mean differs significantly from the population mean.\n"
          ]
        }
      ]
    },
    {
      "cell_type": "code",
      "source": [
        "import pandas as pd\n",
        "import numpy as np\n",
        "np.random.seed(0)\n",
        "data = pd.DataFrame({'Treatment': np.random.choice(['A', 'B', 'C'], size=100),\n",
        "                   'Score': np.random.normal(loc=10, scale=2, size=100)})\n",
        "print(data)"
      ],
      "metadata": {
        "colab": {
          "base_uri": "https://localhost:8080/"
        },
        "id": "P5yq19qdu5i1",
        "outputId": "dbf5281d-fb99-43d7-830a-e4dd5292feca"
      },
      "execution_count": 15,
      "outputs": [
        {
          "output_type": "stream",
          "name": "stdout",
          "text": [
            "   Treatment      Score\n",
            "0          A   8.626821\n",
            "1          B  10.029747\n",
            "2          A   9.248668\n",
            "3          B   9.923553\n",
            "4          B  10.735949\n",
            "..       ...        ...\n",
            "95         A   9.933528\n",
            "96         C  10.131283\n",
            "97         A  10.531571\n",
            "98         B  12.303684\n",
            "99         C  10.276086\n",
            "\n",
            "[100 rows x 2 columns]\n"
          ]
        }
      ]
    },
    {
      "cell_type": "code",
      "source": [
        "mean_score_per_group=data.groupby('Treatment')['Score'].mean()\n",
        "print(mean_score_per_group)"
      ],
      "metadata": {
        "colab": {
          "base_uri": "https://localhost:8080/"
        },
        "id": "pcXi4FqN2-Yb",
        "outputId": "27ed7de4-e172-4421-e5a4-bf43f4bb5d42"
      },
      "execution_count": 16,
      "outputs": [
        {
          "output_type": "stream",
          "name": "stdout",
          "text": [
            "Treatment\n",
            "A     9.611241\n",
            "B    10.099304\n",
            "C    10.010667\n",
            "Name: Score, dtype: float64\n"
          ]
        }
      ]
    },
    {
      "cell_type": "code",
      "source": [
        "#hypothesis testing(t.test)\n",
        "group_A=data[data['Treatment']=='A']['Score']\n",
        "group_B=data[data['Treatment']=='B']['Score']\n",
        "t_stat,p_value=stats.ttest_ind(group_A,group_B)\n",
        "print(\"t-statistic\",t_stat)\n",
        "print(\"p-value\",p_value)"
      ],
      "metadata": {
        "colab": {
          "base_uri": "https://localhost:8080/"
        },
        "id": "moeE8xvc3lxw",
        "outputId": "62672fc3-d6c9-4384-f837-1728fdefa02f"
      },
      "execution_count": 17,
      "outputs": [
        {
          "output_type": "stream",
          "name": "stdout",
          "text": [
            "t-statistic -1.0341676575352792\n",
            "p-value 0.3045674995802033\n"
          ]
        }
      ]
    },
    {
      "cell_type": "code",
      "source": [
        "#anova\n",
        "f_stat,p_value = stats.f_oneway(data[data['Treatment']=='A']['Score'],data[data['Treatment']=='B']['Score'],data[data['Treatment']=='C']['Score'])\n",
        "print(\"F-statistics:\",f_stat)\n",
        "print(\"p-value:\",p_value)"
      ],
      "metadata": {
        "colab": {
          "base_uri": "https://localhost:8080/"
        },
        "id": "woCEflg55sHC",
        "outputId": "21b095fa-e118-4a4b-90db-061141d5ecf2"
      },
      "execution_count": 21,
      "outputs": [
        {
          "output_type": "stream",
          "name": "stdout",
          "text": [
            "F-statistics: 0.6019178068930898\n",
            "p-value: 0.5497930622874936\n"
          ]
        }
      ]
    },
    {
      "cell_type": "code",
      "source": [
        "import numpy as np\n",
        "volume_data=np.random.rand(1000000)\n",
        "print(\"Volume of data:\",len(volume_data))"
      ],
      "metadata": {
        "colab": {
          "base_uri": "https://localhost:8080/"
        },
        "id": "dDe4mylVLbNb",
        "outputId": "8a6d96ef-ccbe-4530-913c-2c4cdca79dab"
      },
      "execution_count": 8,
      "outputs": [
        {
          "output_type": "stream",
          "name": "stdout",
          "text": [
            "Volume of data: 1000000\n"
          ]
        }
      ]
    },
    {
      "cell_type": "code",
      "source": [
        "import time\n",
        "for i in range(10):\n",
        "  velocity_data=np.random.rand()\n",
        "  print(\"Velocity data point:\",velocity_data)\n",
        "  time.sleep(2)"
      ],
      "metadata": {
        "colab": {
          "base_uri": "https://localhost:8080/"
        },
        "id": "hnC-Q9brMDv0",
        "outputId": "d735a639-e7f0-4f42-a237-2985352a8cea"
      },
      "execution_count": 19,
      "outputs": [
        {
          "output_type": "stream",
          "name": "stdout",
          "text": [
            "Velocity data point: 0.7438345453097878\n",
            "Velocity data point: 0.4785963256187501\n",
            "Velocity data point: 0.6770815740270854\n",
            "Velocity data point: 0.6070450611164516\n",
            "Velocity data point: 0.7146969362373571\n",
            "Velocity data point: 0.46949718309117094\n",
            "Velocity data point: 0.45601462321786723\n",
            "Velocity data point: 0.9064180870601711\n",
            "Velocity data point: 0.1372204200971946\n",
            "Velocity data point: 0.22921932308657944\n"
          ]
        }
      ]
    },
    {
      "cell_type": "code",
      "source": [
        "#structured data\n",
        "structured_data={'id':1, 'name':'John', 'age':30}\n",
        "print(structured_data)\n",
        "#semi structured data(JSON)\n",
        "semi_structured_data={'person':{'name':'Alice','age':25,'city':'New York'}}\n",
        "#unstructured data(TEXT)\n",
        "unstructured_data=\"This is a sample text dicument.It can contain any information in free form\""
      ],
      "metadata": {
        "colab": {
          "base_uri": "https://localhost:8080/"
        },
        "id": "GW55OcHLNQif",
        "outputId": "80ef8cfc-17c2-4632-9531-24846556a9b5"
      },
      "execution_count": 27,
      "outputs": [
        {
          "output_type": "stream",
          "name": "stdout",
          "text": [
            "{'id': 1, 'name': 'John', 'age': 30}\n"
          ]
        }
      ]
    },
    {
      "cell_type": "code",
      "source": [
        "import random\n",
        "veracity_data = [random.choice([1,2,3, None]) for _ in range(20)]\n",
        "print(\"Veracity data:\", veracity_data)"
      ],
      "metadata": {
        "colab": {
          "base_uri": "https://localhost:8080/"
        },
        "id": "_rT0qGk0O713",
        "outputId": "eff675ed-7504-4c93-d495-0a939ba988a8"
      },
      "execution_count": 26,
      "outputs": [
        {
          "output_type": "stream",
          "name": "stdout",
          "text": [
            "Veracity data: [None, 2, 1, 3, 3, 3, 1, None, 3, 3, 2, 1, 1, 1, None, 2, 3, 3, 1, 3]\n"
          ]
        }
      ]
    },
    {
      "cell_type": "code",
      "source": [],
      "metadata": {
        "id": "jXArHVoAPuig"
      },
      "execution_count": null,
      "outputs": []
    }
  ]
}