{
  "nbformat": 4,
  "nbformat_minor": 0,
  "metadata": {
    "colab": {
      "provenance": []
    },
    "kernelspec": {
      "name": "python3",
      "display_name": "Python 3"
    },
    "language_info": {
      "name": "python"
    }
  },
  "cells": [
    {
      "cell_type": "code",
      "execution_count": null,
      "metadata": {
        "id": "POla4tCj1oYd"
      },
      "outputs": [],
      "source": [
        "import tensorflow as tf\n",
        "from tensorflow import keras\n",
        "from tensorflow.keras import layers\n",
        "from tensorflow.keras.preprocessing.image import ImageDataGenerator\n",
        "#define image size and batch size\n",
        "IMG_SIZE=224\n",
        "BATCH_SIZE=32"
      ]
    },
    {
      "cell_type": "code",
      "source": [
        "#DEFINE data generators for train,validation and test sets\n",
        "train_datagen=ImageDataGenerator(\n",
        "    rescale=1./225,\n",
        "    validation_split=0.2\n",
        ")\n",
        "train_generator=train_datagen.flow_from_directory(\"/content/drive/MyDrive/Dataset/Brain_Tumor_Detection/train\",\n",
        "              target_size=(IMG_SIZE,IMG_SIZE),\n",
        "              batch_size=BATCH_SIZE,\n",
        "              class_mode='binary',\n",
        "              subset='training'\n",
        ")\n",
        "val_generator=train_datagen.flow_from_directory(\"/content/drive/MyDrive/Dataset/Brain_Tumor_Detection/train\",\n",
        "              target_size=(IMG_SIZE,IMG_SIZE),\n",
        "              batch_size=BATCH_SIZE,\n",
        "              class_mode='binary',\n",
        "              subset='validation'\n",
        ")\n",
        "test_datagen=ImageDataGenerator(rescale=1./225)\n",
        "test_generator=test_datagen.flow_from_directory(\"/content/drive/MyDrive/Dataset/Brain_Tumor_Detection/test\",\n",
        "              target_size=(IMG_SIZE,IMG_SIZE),\n",
        "              batch_size=BATCH_SIZE,\n",
        "              class_mode='binary',\n",
        ")"
      ],
      "metadata": {
        "colab": {
          "base_uri": "https://localhost:8080/"
        },
        "id": "BQlRhlTD22IU",
        "outputId": "a59e709a-d17f-46e4-9fdb-416e6bef3b75"
      },
      "execution_count": null,
      "outputs": [
        {
          "output_type": "stream",
          "name": "stdout",
          "text": [
            "Found 2416 images belonging to 2 classes.\n",
            "Found 604 images belonging to 2 classes.\n",
            "Found 60 images belonging to 1 classes.\n"
          ]
        }
      ]
    },
    {
      "cell_type": "code",
      "source": [
        "#define the model\n",
        "model=keras.Sequential([\n",
        "      layers.Conv2D(32,(3,3),activation='relu',input_shape=(IMG_SIZE,IMG_SIZE,3)),\n",
        "      layers.MaxPooling2D((2,2)),\n",
        "      layers.Conv2D(64,(3,3),activation='relu'),\n",
        "      layers.MaxPooling2D((2,2)),\n",
        "      layers.Conv2D(128,(3,3),activation='relu'),\n",
        "      layers.MaxPooling2D((2,2)),\n",
        "      layers.Flatten(),\n",
        "      layers.Dense(128,activation='relu'),\n",
        "      layers.Dense(1,activation='sigmoid')\n",
        "])"
      ],
      "metadata": {
        "id": "RakjocHN9Awc"
      },
      "execution_count": null,
      "outputs": []
    },
    {
      "cell_type": "code",
      "source": [
        "#compile the model\n",
        "model.compile(optimizer='adam',loss='binary_crossentropy',metrics=['accuracy'])"
      ],
      "metadata": {
        "id": "4COxvKyGBTjq"
      },
      "execution_count": null,
      "outputs": []
    },
    {
      "cell_type": "code",
      "source": [
        "history=model.fit(train_generator,validation_data=val_generator,epochs=5)"
      ],
      "metadata": {
        "colab": {
          "base_uri": "https://localhost:8080/"
        },
        "id": "aU8WunhXCNbW",
        "outputId": "ed7221be-c149-4737-dda0-bd2bc79e305a"
      },
      "execution_count": null,
      "outputs": [
        {
          "output_type": "stream",
          "name": "stdout",
          "text": [
            "Epoch 1/5\n",
            "76/76 [==============================] - 492s 6s/step - loss: 0.4522 - accuracy: 0.8001 - val_loss: 0.2647 - val_accuracy: 0.8858\n",
            "Epoch 2/5\n",
            "76/76 [==============================] - 317s 4s/step - loss: 0.2030 - accuracy: 0.9251 - val_loss: 0.1399 - val_accuracy: 0.9553\n",
            "Epoch 3/5\n",
            "76/76 [==============================] - 327s 4s/step - loss: 0.1024 - accuracy: 0.9661 - val_loss: 0.0508 - val_accuracy: 0.9818\n",
            "Epoch 4/5\n",
            "76/76 [==============================] - 327s 4s/step - loss: 0.0380 - accuracy: 0.9901 - val_loss: 0.0857 - val_accuracy: 0.9603\n",
            "Epoch 5/5\n",
            "76/76 [==============================] - 313s 4s/step - loss: 0.0256 - accuracy: 0.9909 - val_loss: 0.0405 - val_accuracy: 0.9834\n"
          ]
        }
      ]
    },
    {
      "cell_type": "code",
      "source": [
        "model.save(\"Model.h5\",\"label.txt\")"
      ],
      "metadata": {
        "colab": {
          "base_uri": "https://localhost:8080/"
        },
        "id": "k_bp-LGfFU49",
        "outputId": "b0289a9d-9082-4950-ce6f-96be2dff6756"
      },
      "execution_count": null,
      "outputs": [
        {
          "output_type": "stream",
          "name": "stderr",
          "text": [
            "/usr/local/lib/python3.10/dist-packages/keras/src/engine/training.py:3103: UserWarning: You are saving your model as an HDF5 file via `model.save()`. This file format is considered legacy. We recommend using instead the native Keras format, e.g. `model.save('my_model.keras')`.\n",
            "  saving_api.save_model(\n"
          ]
        }
      ]
    },
    {
      "cell_type": "code",
      "source": [
        "from tensorflow.keras.models import load_model\n",
        "from tensorflow.keras.preprocessing import image\n",
        "import numpy as np\n",
        "#load the saved model\n",
        "model=load_model('/content/drive/MyDrive/Model.h5')\n",
        "#load and preprocess the test image\n",
        "test_image_path='/content/drive/MyDrive/Dataset/Brain_Tumor_Detection/train/yes/y10.jpg'\n",
        "img=image.load_img(test_image_path,target_size=(224,224))\n",
        "img_array=image.img_to_array(img)\n",
        "img_array=np.expand_dims(img_array,axis=0)  #add batch dimesion\n",
        "img_array /=225. #normalize the pixel values\n",
        "#make predictions\n",
        "predicition=model.predict(img_array)\n",
        "#print the prediction\n",
        "if predicition < 0.5:\n",
        "  print(\"predicition: No tumor (Probability:\",predicition[0][0],\")\")\n",
        "else:\n",
        "  print(\"predicition: Tumor prediction (Probability:\",predicition[0][0],\")\")"
      ],
      "metadata": {
        "id": "nL0Wl-JfFjWl",
        "colab": {
          "base_uri": "https://localhost:8080/"
        },
        "outputId": "60cdf1e3-3917-4a75-c9cb-5232a7f518c9"
      },
      "execution_count": null,
      "outputs": [
        {
          "output_type": "stream",
          "name": "stdout",
          "text": [
            "1/1 [==============================] - 0s 204ms/step\n",
            "predicition: Tumor prediction (Probability: 0.99999976 )\n"
          ]
        }
      ]
    }
  ]
}