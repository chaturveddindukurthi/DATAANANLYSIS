{
  "nbformat": 4,
  "nbformat_minor": 0,
  "metadata": {
    "colab": {
      "provenance": []
    },
    "kernelspec": {
      "name": "python3",
      "display_name": "Python 3"
    },
    "language_info": {
      "name": "python"
    }
  },
  "cells": [
    {
      "cell_type": "code",
      "execution_count": null,
      "metadata": {
        "id": "Jm5UVuCu4fyU"
      },
      "outputs": [],
      "source": [
        "import tensorflow as tf\n",
        "from tensorflow import keras\n",
        "from tensorflow.keras import layers\n",
        "from tensorflow.keras.preprocessing.image import ImageDataGenerator\n",
        "#define image size and batch size\n",
        "IMG_SIZE=224\n",
        "BATCH_SIZE=32"
      ]
    },
    {
      "cell_type": "code",
      "source": [
        "train_datagen=ImageDataGenerator(\n",
        "    rescale=1./225,\n",
        "    validation_split=0.2\n",
        ")\n",
        "train_generator=train_datagen.flow_from_directory(\"/content/drive/MyDrive/Dataset/genre/train\",\n",
        "              target_size=(IMG_SIZE,IMG_SIZE),\n",
        "              batch_size=BATCH_SIZE,\n",
        "              class_mode='binary',\n",
        "              subset='training'\n",
        ")\n",
        "val_generator=train_datagen.flow_from_directory(\"/content/drive/MyDrive/Dataset/genre/train\",\n",
        "              target_size=(IMG_SIZE,IMG_SIZE),\n",
        "              batch_size=BATCH_SIZE,\n",
        "              class_mode='binary',\n",
        "              subset='validation'\n",
        ")\n",
        "test_datagen=ImageDataGenerator(rescale=1./225)\n",
        "test_generator=test_datagen.flow_from_directory(\"/content/drive/MyDrive/Dataset/genre/train\",\n",
        "              target_size=(IMG_SIZE,IMG_SIZE),\n",
        "              batch_size=BATCH_SIZE,\n",
        "              class_mode='binary',\n",
        ")"
      ],
      "metadata": {
        "colab": {
          "base_uri": "https://localhost:8080/"
        },
        "id": "6ke4Pg5a5GZm",
        "outputId": "b5d87ae6-a132-467e-e533-a83b90b27498"
      },
      "execution_count": null,
      "outputs": [
        {
          "output_type": "stream",
          "name": "stdout",
          "text": [
            "Found 160 images belonging to 2 classes.\n",
            "Found 40 images belonging to 2 classes.\n",
            "Found 200 images belonging to 2 classes.\n"
          ]
        }
      ]
    },
    {
      "cell_type": "code",
      "source": [
        "model=keras.Sequential([\n",
        "      layers.Conv2D(32,(3,3),activation='relu',input_shape=(IMG_SIZE,IMG_SIZE,3)),\n",
        "      layers.MaxPooling2D((2,2)),\n",
        "      layers.Conv2D(64,(3,3),activation='relu'),\n",
        "      layers.MaxPooling2D((2,2)),\n",
        "      layers.Conv2D(128,(3,3),activation='relu'),\n",
        "      layers.MaxPooling2D((2,2)),\n",
        "      layers.Flatten(),\n",
        "      layers.Dense(128,activation='relu'),\n",
        "      layers.Dense(1,activation='sigmoid')\n",
        "])"
      ],
      "metadata": {
        "id": "5oXkj6Ia5f9J"
      },
      "execution_count": null,
      "outputs": []
    },
    {
      "cell_type": "code",
      "source": [
        "model.compile(optimizer='adam',loss='binary_crossentropy',metrics=['accuracy'])"
      ],
      "metadata": {
        "id": "b4t0OstV5oj6"
      },
      "execution_count": null,
      "outputs": []
    },
    {
      "cell_type": "code",
      "source": [
        "history=model.fit(train_generator,validation_data=val_generator,epochs=10)"
      ],
      "metadata": {
        "colab": {
          "base_uri": "https://localhost:8080/"
        },
        "id": "YlvezMSm5s4I",
        "outputId": "b7a913dd-bb3d-4b84-c5b7-c18b83f6afd2"
      },
      "execution_count": null,
      "outputs": [
        {
          "output_type": "stream",
          "name": "stdout",
          "text": [
            "Epoch 1/10\n",
            "5/5 [==============================] - 20s 4s/step - loss: 0.4892 - accuracy: 0.8313 - val_loss: 0.6766 - val_accuracy: 0.6750\n",
            "Epoch 2/10\n",
            "5/5 [==============================] - 22s 4s/step - loss: 0.3853 - accuracy: 0.8750 - val_loss: 0.8350 - val_accuracy: 0.5000\n",
            "Epoch 3/10\n",
            "5/5 [==============================] - 22s 4s/step - loss: 0.3861 - accuracy: 0.8438 - val_loss: 0.8742 - val_accuracy: 0.6000\n",
            "Epoch 4/10\n",
            "5/5 [==============================] - 21s 4s/step - loss: 0.2522 - accuracy: 0.9062 - val_loss: 0.7743 - val_accuracy: 0.5750\n",
            "Epoch 5/10\n",
            "5/5 [==============================] - 23s 4s/step - loss: 0.2167 - accuracy: 0.9312 - val_loss: 0.8821 - val_accuracy: 0.5750\n",
            "Epoch 6/10\n",
            "5/5 [==============================] - 21s 4s/step - loss: 0.1463 - accuracy: 0.9750 - val_loss: 0.9810 - val_accuracy: 0.5500\n",
            "Epoch 7/10\n",
            "5/5 [==============================] - 22s 4s/step - loss: 0.0849 - accuracy: 0.9937 - val_loss: 1.0960 - val_accuracy: 0.5500\n",
            "Epoch 8/10\n",
            "5/5 [==============================] - 21s 4s/step - loss: 0.0717 - accuracy: 0.9812 - val_loss: 1.1683 - val_accuracy: 0.5750\n",
            "Epoch 9/10\n",
            "5/5 [==============================] - 21s 4s/step - loss: 0.0340 - accuracy: 0.9937 - val_loss: 1.1701 - val_accuracy: 0.5250\n",
            "Epoch 10/10\n",
            "5/5 [==============================] - 23s 4s/step - loss: 0.0145 - accuracy: 1.0000 - val_loss: 1.4659 - val_accuracy: 0.5250\n"
          ]
        }
      ]
    },
    {
      "cell_type": "code",
      "source": [
        "model.save(\"model.h5\",\"label.txt\")"
      ],
      "metadata": {
        "id": "AqetgBv4-BKb"
      },
      "execution_count": null,
      "outputs": []
    },
    {
      "cell_type": "code",
      "source": [
        "from tensorflow.keras.models import load_model\n",
        "from tensorflow.keras.preprocessing import image\n",
        "import numpy as np\n",
        "#load the saved model\n",
        "model=load_model('/content/model.h5')\n",
        "#load and preprocess the test image\n",
        "test_image_path='/content/drive/MyDrive/Dataset/genre/train/action/tt2906216.jpg'\n",
        "img=image.load_img(test_image_path,target_size=(224,224))\n",
        "img_array=image.img_to_array(img)\n",
        "img_array=np.expand_dims(img_array,axis=0)  #add batch dimesion\n",
        "img_array /=225. #normalize the pixel values\n",
        "#make predictions\n",
        "predicition=model.predict(img_array)\n",
        "#print the prediction\n",
        "if predicition < 0.5:\n",
        "  print(\"predicition: ACTION (Probability:\",predicition[0][0],\")\")\n",
        "else:\n",
        "  print(\"predicition:COMEDY (Probability:\",predicition[0][0],\")\")"
      ],
      "metadata": {
        "colab": {
          "base_uri": "https://localhost:8080/"
        },
        "id": "pNvQqTiY6Zj1",
        "outputId": "49212e18-83f5-4780-b521-2aee8332d971"
      },
      "execution_count": null,
      "outputs": [
        {
          "output_type": "stream",
          "name": "stderr",
          "text": [
            "WARNING:tensorflow:6 out of the last 6 calls to <function Model.make_predict_function.<locals>.predict_function at 0x7e3df52bf5b0> triggered tf.function retracing. Tracing is expensive and the excessive number of tracings could be due to (1) creating @tf.function repeatedly in a loop, (2) passing tensors with different shapes, (3) passing Python objects instead of tensors. For (1), please define your @tf.function outside of the loop. For (2), @tf.function has reduce_retracing=True option that can avoid unnecessary retracing. For (3), please refer to https://www.tensorflow.org/guide/function#controlling_retracing and https://www.tensorflow.org/api_docs/python/tf/function for  more details.\n"
          ]
        },
        {
          "output_type": "stream",
          "name": "stdout",
          "text": [
            "1/1 [==============================] - 1s 524ms/step\n",
            "predicition: ACTION (Probability: 0.00022159549 )\n"
          ]
        }
      ]
    }
  ]
}