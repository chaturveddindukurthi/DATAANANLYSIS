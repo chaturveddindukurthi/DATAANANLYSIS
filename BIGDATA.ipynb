{
  "nbformat": 4,
  "nbformat_minor": 0,
  "metadata": {
    "colab": {
      "provenance": []
    },
    "kernelspec": {
      "name": "python3",
      "display_name": "Python 3"
    },
    "language_info": {
      "name": "python"
    }
  },
  "cells": [
    {
      "cell_type": "code",
      "execution_count": 1,
      "metadata": {
        "id": "yJzw_ONLrWaQ",
        "colab": {
          "base_uri": "https://localhost:8080/"
        },
        "outputId": "ba26af43-3cd2-4d4c-9d86-c3b8d20887a2"
      },
      "outputs": [
        {
          "output_type": "stream",
          "name": "stdout",
          "text": [
            "volume of data 30\n"
          ]
        }
      ],
      "source": [
        "import numpy as np\n",
        "import pandas as pd\n",
        "df=pd.read_csv('/content/drive/MyDrive/Dataset/Salary_Data.csv')\n",
        "#volume_data=np.random.rand(1000000)\n",
        "v=len(df)\n",
        "print(\"volume of data\",v)"
      ]
    },
    {
      "cell_type": "code",
      "source": [
        "import time\n",
        "for i in range(v):\n",
        "  velocity_data=np.random.rand()\n",
        "  print(\"velocity data is\",velocity_data)\n",
        "  time.sleep(2)"
      ],
      "metadata": {
        "colab": {
          "base_uri": "https://localhost:8080/"
        },
        "id": "hDATGPBvx4_Y",
        "outputId": "b7338b5d-70e6-4571-f6bb-65f2b281d6be"
      },
      "execution_count": 2,
      "outputs": [
        {
          "output_type": "stream",
          "name": "stdout",
          "text": [
            "velocity data is 0.10204185594800341\n",
            "velocity data is 0.29827771309417195\n",
            "velocity data is 0.31545485124807626\n",
            "velocity data is 0.8016864632855003\n",
            "velocity data is 0.4227724480194186\n",
            "velocity data is 0.1623443754099475\n",
            "velocity data is 0.7842592433652731\n",
            "velocity data is 0.4057898311676641\n",
            "velocity data is 0.23545543632715427\n",
            "velocity data is 0.004310827555125907\n",
            "velocity data is 0.7545760695610737\n",
            "velocity data is 0.8541737103972499\n",
            "velocity data is 0.7812900489526515\n",
            "velocity data is 0.15768375380958222\n",
            "velocity data is 0.8885187886050281\n",
            "velocity data is 0.5775099063638645\n",
            "velocity data is 0.8920795592804417\n",
            "velocity data is 0.4992519639899542\n",
            "velocity data is 0.1485552270149657\n",
            "velocity data is 0.07836912680608155\n",
            "velocity data is 0.35293042108615125\n",
            "velocity data is 0.4867005071006556\n",
            "velocity data is 0.1880873353320841\n",
            "velocity data is 0.3401212273107618\n",
            "velocity data is 0.5877979985060792\n",
            "velocity data is 0.9498177652449855\n",
            "velocity data is 0.3496895899953456\n",
            "velocity data is 0.8328858255826547\n",
            "velocity data is 0.5646637469681489\n",
            "velocity data is 0.6858632688981966\n"
          ]
        }
      ]
    },
    {
      "cell_type": "code",
      "source": [
        "import random\n",
        "veracity_data=[random.choice(df.values.tolist())for _ in range(v)]\n",
        "print(veracity_data)"
      ],
      "metadata": {
        "colab": {
          "base_uri": "https://localhost:8080/"
        },
        "id": "Z2ZFjQD4x41z",
        "outputId": "82563920-25f0-45ea-dcf9-9db0e71a208a"
      },
      "execution_count": 3,
      "outputs": [
        {
          "output_type": "stream",
          "name": "stdout",
          "text": [
            "[[3.2, 64445.0], [5.3, 83088.0], [5.3, 83088.0], [1.5, 37731.0], [1.3, 46205.0], [4.9, 67938.0], [6.0, 93940.0], [8.7, 109431.0], [1.3, 46205.0], [2.2, 39891.0], [3.9, 63218.0], [7.9, 101302.0], [8.7, 109431.0], [4.5, 61111.0], [1.1, 39343.0], [3.0, 60150.0], [5.9, 81363.0], [1.3, 46205.0], [9.0, 105582.0], [4.1, 57081.0], [8.7, 109431.0], [4.0, 56957.0], [1.5, 37731.0], [3.2, 64445.0], [3.0, 60150.0], [2.9, 56642.0], [3.0, 60150.0], [5.1, 66029.0], [3.9, 63218.0], [3.9, 63218.0]]\n"
          ]
        }
      ]
    },
    {
      "cell_type": "code",
      "source": [
        "print(\"Variety of data:\")\n",
        "print(df.info())"
      ],
      "metadata": {
        "colab": {
          "base_uri": "https://localhost:8080/"
        },
        "id": "l_aUevKgx4sB",
        "outputId": "acc78d5d-30f9-464e-f4ee-30ff5d51ca31"
      },
      "execution_count": 4,
      "outputs": [
        {
          "output_type": "stream",
          "name": "stdout",
          "text": [
            "Variety of data:\n",
            "<class 'pandas.core.frame.DataFrame'>\n",
            "RangeIndex: 30 entries, 0 to 29\n",
            "Data columns (total 2 columns):\n",
            " #   Column           Non-Null Count  Dtype  \n",
            "---  ------           --------------  -----  \n",
            " 0   YearsExperience  30 non-null     float64\n",
            " 1   Salary           30 non-null     float64\n",
            "dtypes: float64(2)\n",
            "memory usage: 608.0 bytes\n",
            "None\n"
          ]
        }
      ]
    }
  ]
}